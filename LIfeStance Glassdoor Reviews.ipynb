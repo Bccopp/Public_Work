{
 "cells": [
  {
   "cell_type": "code",
   "execution_count": 5,
   "id": "3eb61ded",
   "metadata": {},
   "outputs": [],
   "source": [
    "import pandas \n",
    "from matplotlib import pyplot as plt"
   ]
  },
  {
   "cell_type": "code",
   "execution_count": 6,
   "id": "9ca8ca19",
   "metadata": {},
   "outputs": [
    {
     "name": "stdout",
     "output_type": "stream",
     "text": [
      "                                               Title  \\\n",
      "0  Supportive environment, Opportunities for Growth!   \n",
      "1                  Solid company with strong mission   \n",
      "2               Very nice and pleasant place to work   \n",
      "3                                    Very misleading   \n",
      "4       Not always the best place for new therapists   \n",
      "\n",
      "                                           Title_URL  View         View1  \\\n",
      "0  https://www.glassdoor.com/Reviews/Employee-Rev...   5.0  Jan 31, 2023   \n",
      "1  https://www.glassdoor.com/Reviews/Employee-Rev...   5.0   Nov 4, 2023   \n",
      "2  https://www.glassdoor.com/Reviews/Employee-Rev...   5.0   Nov 3, 2023   \n",
      "3  https://www.glassdoor.com/Reviews/Employee-Rev...   1.0  Oct 27, 2023   \n",
      "4  https://www.glassdoor.com/Reviews/Employee-Rev...   3.0  Oct 17, 2023   \n",
      "\n",
      "                     View2                                View3     Location  \\\n",
      "0                Therapist  Current Employee, more than 5 years          NaN   \n",
      "1       Anonymous Employee  Current Employee, more than 5 years   Boston, MA   \n",
      "2  Mental Health Therapist   Current Employee, less than 1 year  Olympia, WA   \n",
      "3                Therapist   Current Employee, more than 1 year          NaN   \n",
      "4          Psychotherapist   Current Employee, less than 1 year          NaN   \n",
      "\n",
      "       View4         View5             View6 View7  \\\n",
      "0  Recommend  CEO Approval  Business Outlook  Pros   \n",
      "1  Recommend  CEO Approval  Business Outlook  Pros   \n",
      "2  Recommend  CEO Approval  Business Outlook  Pros   \n",
      "3  Recommend  CEO Approval  Business Outlook  Pros   \n",
      "4  Recommend  CEO Approval  Business Outlook  Pros   \n",
      "\n",
      "                                               View8 View9  \\\n",
      "0  Positive working environment, wonderful collea...  Cons   \n",
      "1  The team really cares about the mission and ha...  Cons   \n",
      "2  The most powerful thing I can say is that is a...  Cons   \n",
      "3  Can be fully remote. People don't breathe down...  Cons   \n",
      "4  Don’t have to worry about marketing, taxes, bu...  Cons   \n",
      "\n",
      "                                              View10  \\\n",
      "0  If I had to identify a con, it would be growin...   \n",
      "1  They have grown quickly in an attempt to addre...   \n",
      "2  The biggest thing is we pay all of our insuran...   \n",
      "3  You will only make what they advertise if you ...   \n",
      "4  The expectation of seeing 30+ people a week ca...   \n",
      "\n",
      "                       View11 View12  \\\n",
      "0  LifeStance Health Response    9mo   \n",
      "1                         NaN    NaN   \n",
      "2                         NaN    NaN   \n",
      "3                         NaN    NaN   \n",
      "4  LifeStance Health Response     2w   \n",
      "\n",
      "                                              View13  \n",
      "0  Thank you for leaving this wonderful review! I...  \n",
      "1                                                NaN  \n",
      "2                                                NaN  \n",
      "3                                                NaN  \n",
      "4  Thank you for sharing your experience at LifeS...  \n"
     ]
    }
   ],
   "source": [
    "df = pd.read_csv('LSH_Reviews.csv')\n",
    "print(df.head())"
   ]
  },
  {
   "cell_type": "code",
   "execution_count": 9,
   "id": "1f84f088",
   "metadata": {},
   "outputs": [],
   "source": [
    "df = df.rename(columns={'View': 'Rating', 'View1': 'Date', 'View2': 'Job_Title', 'View3': 'Job_Status','View4': 'Recommend', 'View5': 'CEO_Approval', 'View6': 'Business_Outlook', 'View8': 'Pros', 'View10': 'Cons', 'View11': 'LS_Response', 'View12': 'Response_time','View13': 'LS_response_text'})"
   ]
  },
  {
   "cell_type": "code",
   "execution_count": 11,
   "id": "c3e474b2",
   "metadata": {},
   "outputs": [
    {
     "name": "stdout",
     "output_type": "stream",
     "text": [
      "                                               Title  Rating          Date  \\\n",
      "0  Supportive environment, Opportunities for Growth!     5.0  Jan 31, 2023   \n",
      "1                  Solid company with strong mission     5.0   Nov 4, 2023   \n",
      "2               Very nice and pleasant place to work     5.0   Nov 3, 2023   \n",
      "3                                    Very misleading     1.0  Oct 27, 2023   \n",
      "4       Not always the best place for new therapists     3.0  Oct 17, 2023   \n",
      "\n",
      "                 Job_Title                           Job_Status     Location  \\\n",
      "0                Therapist  Current Employee, more than 5 years          NaN   \n",
      "1       Anonymous Employee  Current Employee, more than 5 years   Boston, MA   \n",
      "2  Mental Health Therapist   Current Employee, less than 1 year  Olympia, WA   \n",
      "3                Therapist   Current Employee, more than 1 year          NaN   \n",
      "4          Psychotherapist   Current Employee, less than 1 year          NaN   \n",
      "\n",
      "   Recommend  CEO_Approval  Business_Outlook  \\\n",
      "0  Recommend  CEO Approval  Business Outlook   \n",
      "1  Recommend  CEO Approval  Business Outlook   \n",
      "2  Recommend  CEO Approval  Business Outlook   \n",
      "3  Recommend  CEO Approval  Business Outlook   \n",
      "4  Recommend  CEO Approval  Business Outlook   \n",
      "\n",
      "                                                Pros  \\\n",
      "0  Positive working environment, wonderful collea...   \n",
      "1  The team really cares about the mission and ha...   \n",
      "2  The most powerful thing I can say is that is a...   \n",
      "3  Can be fully remote. People don't breathe down...   \n",
      "4  Don’t have to worry about marketing, taxes, bu...   \n",
      "\n",
      "                                                Cons  \\\n",
      "0  If I had to identify a con, it would be growin...   \n",
      "1  They have grown quickly in an attempt to addre...   \n",
      "2  The biggest thing is we pay all of our insuran...   \n",
      "3  You will only make what they advertise if you ...   \n",
      "4  The expectation of seeing 30+ people a week ca...   \n",
      "\n",
      "                  LS_Response Response_time  \\\n",
      "0  LifeStance Health Response           9mo   \n",
      "1                         NaN           NaN   \n",
      "2                         NaN           NaN   \n",
      "3                         NaN           NaN   \n",
      "4  LifeStance Health Response            2w   \n",
      "\n",
      "                                    LS_response_text  \n",
      "0  Thank you for leaving this wonderful review! I...  \n",
      "1                                                NaN  \n",
      "2                                                NaN  \n",
      "3                                                NaN  \n",
      "4  Thank you for sharing your experience at LifeS...  \n"
     ]
    }
   ],
   "source": [
    "columns_to_remove = ['Title_URL', 'View7','View9']\n",
    "df = df.drop(columns=columns_to_remove, axis=1)\n",
    "\n",
    "print(df.head())"
   ]
  },
  {
   "cell_type": "code",
   "execution_count": 15,
   "id": "78d7bc5a",
   "metadata": {},
   "outputs": [],
   "source": [
    "df.to_csv('LSH_Reviews_Clean.csv', index=False)"
   ]
  },
  {
   "cell_type": "code",
   "execution_count": null,
   "id": "6412a0d9",
   "metadata": {},
   "outputs": [],
   "source": []
  }
 ],
 "metadata": {
  "kernelspec": {
   "display_name": "Python 3 (ipykernel)",
   "language": "python",
   "name": "python3"
  },
  "language_info": {
   "codemirror_mode": {
    "name": "ipython",
    "version": 3
   },
   "file_extension": ".py",
   "mimetype": "text/x-python",
   "name": "python",
   "nbconvert_exporter": "python",
   "pygments_lexer": "ipython3",
   "version": "3.11.5"
  }
 },
 "nbformat": 4,
 "nbformat_minor": 5
}
